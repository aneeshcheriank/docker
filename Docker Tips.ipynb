{
 "cells": [
  {
   "cell_type": "markdown",
   "id": "057ae9c4",
   "metadata": {},
   "source": [
    "## Dockerfile\n",
    "- FROM\n",
    "    - need to specify a base image\n",
    "    - `FROM ubuntu 18.04`\n",
    "- WORKDIR\n",
    "    - when the docer is ready this directory is the current directory\n",
    "    - `WORKDIR app`\n",
    "- COPY\n",
    "    - copy the file from the local machine to docker\n",
    "    - `COPY . .`\n",
    "    - copy files from current local direcotry to the current directory in docker\n",
    "    - `.dockerignore` if you want to ignore some files or folders from copying to the workdir\n",
    "        - create a .dockerignore file -> same like .gitignore\n",
    "- RUN\n",
    "    - run a command in the docker\n",
    "    - `RUN apt --upgrade app && apt install python3 -y`\n",
    "    - upgrade app and install python in the docker\n",
    "- CMD\n",
    "    - to run the python application in docker\n",
    "    - APIs\n",
    "    - `CMD [\"python\", \"app.py\"]`\n",
    "    - need to use \"\n",
    "- Flask application\n",
    "    - should speicfy the host = '0.0.0.0' to access the application from outside"
   ]
  },
  {
   "cell_type": "markdown",
   "id": "d52bbd33",
   "metadata": {},
   "source": [
    "## Docker commands\n",
    "- `docker build -t <tag_name> .`\n",
    "    - sould run from the folder where Dockerfile exists\n",
    "    - -t: to specify a tag name -> name used to reffer the docker image\n",
    "- `docker run -p <local_port>:<docker_port> <tag_name>`\n",
    "- `docker system prune`\n",
    "    - remove all the stopped docker instences\n",
    "    - all resources\n",
    "- `docker ps -a`\n",
    "- `docker rmi <image_id>`\n",
    "- `docker rm <container_id>`"
   ]
  },
  {
   "cell_type": "code",
   "execution_count": null,
   "id": "e7bb55a1",
   "metadata": {},
   "outputs": [],
   "source": []
  }
 ],
 "metadata": {
  "kernelspec": {
   "display_name": "Python 3 (ipykernel)",
   "language": "python",
   "name": "python3"
  },
  "language_info": {
   "codemirror_mode": {
    "name": "ipython",
    "version": 3
   },
   "file_extension": ".py",
   "mimetype": "text/x-python",
   "name": "python",
   "nbconvert_exporter": "python",
   "pygments_lexer": "ipython3",
   "version": "3.10.12"
  }
 },
 "nbformat": 4,
 "nbformat_minor": 5
}
